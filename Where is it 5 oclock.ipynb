{
 "cells": [
  {
   "cell_type": "code",
   "execution_count": 8,
   "metadata": {},
   "outputs": [],
   "source": [
    "import pandas as pd\n",
    "import numpy as np\n",
    "import requests\n",
    "import http.client, urllib.parse\n",
    "from math import cos, asin, sqrt, pi\n",
    "import datetime as datetime"
   ]
  },
  {
   "cell_type": "code",
   "execution_count": 2,
   "metadata": {},
   "outputs": [],
   "source": [
    "\n",
    "geo_api_key = #Go get an api key from positionstack.com"
   ]
  },
  {
   "cell_type": "code",
   "execution_count": 18,
   "metadata": {},
   "outputs": [],
   "source": [
    "def find_lats(city, state):\n",
    "    \n",
    "    conn = http.client.HTTPConnection('api.positionstack.com')\n",
    "\n",
    "    params = urllib.parse.urlencode({\n",
    "        'access_key': geo_api_key,\n",
    "        'query': city,\n",
    "        'region': state,\n",
    "        'limit': 1,\n",
    "        })\n",
    "\n",
    "    conn.request('GET', '/v1/forward?{}'.format(params))\n",
    "\n",
    "    res = conn.getresponse()\n",
    "    data = res.read().decode('utf-8')\n",
    "\n",
    "    latitude = float(data.split('{')[2].split(',')[0].split(':')[1])\n",
    "    longitude = float(data.split('{')[2].split(',')[1].split(':')[1])\n",
    "    lat_lon = [latitude,longitude]\n",
    "    \n",
    "    return lat_lon"
   ]
  },
  {
   "cell_type": "code",
   "execution_count": 58,
   "metadata": {},
   "outputs": [],
   "source": [
    "def reverse(city, state):\n",
    "    now = datetime.datetime.now()\n",
    "    five_pm = datetime.datetime(now.year,now.month,now.day,17,0,0)\n",
    "    day_pct = (five_pm-now).seconds/(24*60*60)\n",
    "    \n",
    "    lat_lon = find_lats(city, state)\n",
    "    new_long = lat_lon[1]+360*day_pct\n",
    "    \n",
    "    conn = http.client.HTTPConnection('api.positionstack.com')\n",
    "\n",
    "    params = urllib.parse.urlencode({\n",
    "        'access_key': geo_api_key,\n",
    "        'query': str(lat_lon[0])+','+str(new_long),\n",
    "        'limit': 1,\n",
    "        })\n",
    "\n",
    "    conn.request('GET', '/v1/reverse?{}'.format(params))\n",
    "\n",
    "    res = conn.getresponse()\n",
    "    data = res.read().decode('utf-8')\n",
    "    town = data.split('{')[2].split(',')[4].split(':')[1]\n",
    "    country = data.split('{')[2].split(',')[15].split(':')[1]\n",
    "    print(town, country)\n",
    "    print(lat_lon[0], new_long)\n",
    "    "
   ]
  },
  {
   "cell_type": "code",
   "execution_count": 60,
   "metadata": {},
   "outputs": [
    {
     "name": "stdout",
     "output_type": "stream",
     "text": [
      "\"Tyrrhenian Sea\" null\n",
      "40.652256 10.843418\n"
     ]
    }
   ],
   "source": [
    "reverse('Brooklyn', 'New York')"
   ]
  },
  {
   "cell_type": "code",
   "execution_count": 59,
   "metadata": {},
   "outputs": [
    {
     "name": "stdout",
     "output_type": "stream",
     "text": [
      "\"El Bayadh\" \"Algeria\"\n",
      "33.769805 0.4395856666666731\n"
     ]
    }
   ],
   "source": [
    "reverse('Atlanta', 'Georgia')"
   ]
  }
 ],
 "metadata": {
  "kernelspec": {
   "display_name": "Python 3",
   "language": "python",
   "name": "python3"
  },
  "language_info": {
   "codemirror_mode": {
    "name": "ipython",
    "version": 3
   },
   "file_extension": ".py",
   "mimetype": "text/x-python",
   "name": "python",
   "nbconvert_exporter": "python",
   "pygments_lexer": "ipython3",
   "version": "3.7.6"
  }
 },
 "nbformat": 4,
 "nbformat_minor": 4
}
