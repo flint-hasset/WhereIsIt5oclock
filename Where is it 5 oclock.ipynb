{
 "cells": [
  {
   "cell_type": "code",
   "execution_count": 1,
   "metadata": {},
   "outputs": [],
   "source": [
    "import pandas as pd\n",
    "import numpy as np\n",
    "import requests\n",
    "import http.client, urllib.parse\n",
    "from math import cos, asin, sqrt, pi\n",
    "import datetime as datetime"
   ]
  },
  {
   "cell_type": "code",
   "execution_count": 2,
   "metadata": {},
   "outputs": [],
   "source": [
    "### Get API key from positionstack\n",
    "geo_api_key = '7c87122da92497c5685034ae9021644c'"
   ]
  },
  {
   "cell_type": "markdown",
   "metadata": {},
   "source": [
    "# Buncha Functions"
   ]
  },
  {
   "cell_type": "code",
   "execution_count": 3,
   "metadata": {},
   "outputs": [],
   "source": [
    "def find_lats(city, state):\n",
    "    \n",
    "    conn = http.client.HTTPConnection('api.positionstack.com')\n",
    "\n",
    "    params = urllib.parse.urlencode({\n",
    "        'access_key': geo_api_key,\n",
    "        'query': city,\n",
    "        'region': state,\n",
    "        'limit': 1,\n",
    "        })\n",
    "\n",
    "    conn.request('GET', '/v1/forward?{}'.format(params))\n",
    "\n",
    "    res = conn.getresponse()\n",
    "    data = res.read().decode('utf-8')\n",
    "\n",
    "    latitude = float(data.split('{')[2].split(',')[0].split(':')[1])\n",
    "    longitude = float(data.split('{')[2].split(',')[1].split(':')[1])\n",
    "    lat_lon = [latitude,longitude]\n",
    "    \n",
    "    return lat_lon"
   ]
  },
  {
   "cell_type": "code",
   "execution_count": 4,
   "metadata": {},
   "outputs": [],
   "source": [
    "def recursive(lat, new_long, geo_api_key):\n",
    "    conn = http.client.HTTPConnection('api.positionstack.com')\n",
    "    params = urllib.parse.urlencode({\n",
    "    'access_key': geo_api_key,\n",
    "    'query': str(lat)+','+str(new_long),\n",
    "    'limit': 1,\n",
    "    })\n",
    "\n",
    "    conn.request('GET', '/v1/reverse?{}'.format(params))\n",
    "\n",
    "    res = conn.getresponse()\n",
    "    data = res.read().decode('utf-8')\n",
    "    town = data.split('{')[2].split(',')[4].split(':')[1]\n",
    "    country = data.split('{')[2].split(',')[15].split(':')[1]\n",
    "    label = data.split(':')[-1]\n",
    "    \n",
    "    return label, town, country"
   ]
  },
  {
   "cell_type": "code",
   "execution_count": 5,
   "metadata": {},
   "outputs": [],
   "source": [
    "def whole_thing(city, state):\n",
    "    now = datetime.datetime.now()\n",
    "    five_pm = datetime.datetime(now.year,now.month,now.day,18,30,0)\n",
    "    day_pct = ((five_pm-now).days*(24*60*60)+(five_pm-now).seconds)/(24*60*60)\n",
    "    \n",
    "    lat_lon = find_lats(city, state)\n",
    "    new_long = lat_lon[1]+360*day_pct\n",
    "    \n",
    "    conn = http.client.HTTPConnection('api.positionstack.com')\n",
    "\n",
    "    params = urllib.parse.urlencode({\n",
    "        'access_key': geo_api_key,\n",
    "        'query': str(lat_lon[0])+','+str(new_long),\n",
    "        'limit': 1,\n",
    "        })\n",
    "\n",
    "    conn.request('GET', '/v1/reverse?{}'.format(params))\n",
    "\n",
    "    res = conn.getresponse()\n",
    "    data = res.read().decode('utf-8')\n",
    "    town = data.split('{')[2].split(',')[4].split(':')[1]\n",
    "    country = data.split('{')[2].split(',')[15].split(':')[1]\n",
    "    label = data.split(':')[-1]\n",
    "    \n",
    "    ### Do the recursive thing now.\n",
    "    new_lat = lat_lon[0]\n",
    "    if country == 'null':\n",
    "        adj = 1\n",
    "        while country == 'null':\n",
    "            new_lat = new_lat + 3*adj\n",
    "            if new_lat>80:\n",
    "                adj = adj * -1\n",
    "                new_lat = lat_lon[0]\n",
    "            if new_long<-80:\n",
    "                print(\"Party in the Ocean\")\n",
    "                break\n",
    "            label, town, country = recursive(new_lat, new_long, geo_api_key)\n",
    "\n",
    "    print(label)\n",
    "    print(new_lat, new_long)\n",
    "    "
   ]
  },
  {
   "cell_type": "markdown",
   "metadata": {},
   "source": [
    "# Run it!"
   ]
  },
  {
   "cell_type": "code",
   "execution_count": null,
   "metadata": {},
   "outputs": [],
   "source": []
  },
  {
   "cell_type": "code",
   "execution_count": 8,
   "metadata": {
    "scrolled": false
   },
   "outputs": [
    {
     "name": "stdout",
     "output_type": "stream",
     "text": [
      "\"Torrente Bilioso, Tricarico, MT, Italy\"}]}\n",
      "40.652256 16.251751333333345\n"
     ]
    }
   ],
   "source": [
    "whole_thing('Brooklyn', 'New York')"
   ]
  }
 ],
 "metadata": {
  "kernelspec": {
   "display_name": "Python 3",
   "language": "python",
   "name": "python3"
  },
  "language_info": {
   "codemirror_mode": {
    "name": "ipython",
    "version": 3
   },
   "file_extension": ".py",
   "mimetype": "text/x-python",
   "name": "python",
   "nbconvert_exporter": "python",
   "pygments_lexer": "ipython3",
   "version": "3.7.6"
  }
 },
 "nbformat": 4,
 "nbformat_minor": 4
}
